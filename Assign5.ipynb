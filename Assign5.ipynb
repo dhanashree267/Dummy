{
 "cells": [
  {
   "cell_type": "code",
   "execution_count": 202,
   "id": "d867569f-964b-4fcd-9f4f-16a41de1388e",
   "metadata": {},
   "outputs": [
    {
     "name": "stdin",
     "output_type": "stream",
     "text": [
      "Enter a number: 35\n"
     ]
    },
    {
     "name": "stdout",
     "output_type": "stream",
     "text": [
      "The largest prime factor of a number: 7\n"
     ]
    }
   ],
   "source": [
    "#1. Python Program for Find largest prime factor of a number\n",
    "\n",
    "\n",
    "def factors(n):\n",
    "   l1=[i for i in range(2,n//2+1) if n%i==0]\n",
    "   largest_prime_num=max(prime_list(l1))\n",
    "   return largest_prime_num\n",
    "def prime_list(m):\n",
    "   prime_list_1=[num  for num in m if prime(num)]\n",
    "   return(prime_list_1)\n",
    "def prime(num):\n",
    "    for j in range(2,num//2+1):\n",
    "        if num%j==0:\n",
    "            return False\n",
    "    else:\n",
    "        return True\n",
    "\n",
    "print(\"The largest prime factor of a number:\",factors(int(input(\"Enter a number:\"))))\n",
    "     \n",
    "            "
   ]
  },
  {
   "cell_type": "code",
   "execution_count": null,
   "id": "17f44fd2-c640-4fc4-aeb9-964bcd45bf4a",
   "metadata": {},
   "outputs": [],
   "source": [
    "print(dir(list))"
   ]
  },
  {
   "cell_type": "code",
   "execution_count": 205,
   "id": "2a4890a6-d64d-418b-9b80-0d1d83f48fc6",
   "metadata": {},
   "outputs": [
    {
     "name": "stdin",
     "output_type": "stream",
     "text": [
      "Enter a number: 75\n"
     ]
    },
    {
     "name": "stdout",
     "output_type": "stream",
     "text": [
      "[3, 5]\n",
      "The product of unique prime factor of a number: 15\n"
     ]
    }
   ],
   "source": [
    "#2. Python Program for Product of unique prime factors of a number\n",
    "def factors(n):\n",
    "   l1=[i for i in range(2,n//2+1) if n%i==0]\n",
    "   return prime_list(l1)\n",
    "def prime_list(m):\n",
    "   prime_list_1=[num  for num in m if prime(num)]\n",
    "   product_of_prime_fact=1\n",
    "   for k in prime_list_1:\n",
    "       product_of_prime_fact*=k\n",
    "   return(product_of_prime_fact)\n",
    "def prime(num):\n",
    "    for j in range(2,num//2+1):\n",
    "        if num%j==0:\n",
    "            return False\n",
    "    else:\n",
    "        return True\n",
    "\n",
    "print(\"The product of unique prime factor of a number:\",factors(int(input(\"Enter a number:\"))))"
   ]
  },
  {
   "cell_type": "code",
   "execution_count": 43,
   "id": "e4f2a722-95dd-460a-b863-821f2be50400",
   "metadata": {},
   "outputs": [
    {
     "name": "stdout",
     "output_type": "stream",
     "text": [
      "5 2\n",
      "[3, 5] [None]\n"
     ]
    }
   ],
   "source": []
  },
  {
   "cell_type": "markdown",
   "id": "8b04ff35-4f7b-42f6-9955-17809f86dd64",
   "metadata": {},
   "source": [
    "##### 3. Python Program to find Factorial of Number\n"
   ]
  },
  {
   "cell_type": "code",
   "execution_count": 22,
   "id": "622d19af-9893-48ad-af5f-7ecc88237c5b",
   "metadata": {},
   "outputs": [
    {
     "name": "stdin",
     "output_type": "stream",
     "text": [
      "Enter a number: 6\n"
     ]
    },
    {
     "name": "stdout",
     "output_type": "stream",
     "text": [
      "Factorial of a number is 720\n"
     ]
    }
   ],
   "source": [
    "def fact(n):\n",
    "    if n<=1:\n",
    "     return 1\n",
    "    else:\n",
    "        return n*fact(n-1)\n",
    "print(\"Factorial of a number is\", fact(int(input(\"Enter a number:\"))))\n"
   ]
  },
  {
   "cell_type": "markdown",
   "id": "ba69da5b-618c-4b8e-8500-e002a388fe84",
   "metadata": {},
   "source": [
    "##### 4. Python Program for Find sum of odd factors of a number"
   ]
  },
  {
   "cell_type": "code",
   "execution_count": 76,
   "id": "f2274f78-d296-45ca-a2e2-1e4e3af5aee7",
   "metadata": {},
   "outputs": [
    {
     "name": "stdout",
     "output_type": "stream",
     "text": [
      "Sum of all odd factors is: 8\n"
     ]
    }
   ],
   "source": [
    "def factors(n):\n",
    "   l1=[i for i in range(2,n//2+1) if n%i==0 and i%2!=0]\n",
    "   return sum(l1)\n",
    "# def odd(l1):\n",
    "#     for i in l1:\n",
    "#         if i%2==0:\n",
    "#             l1.remove(i)\n",
    "#     return sum(l1)\n",
    "print(\"Sum of all odd factors is:\",factors(15))"
   ]
  },
  {
   "cell_type": "markdown",
   "id": "627425d0-028a-46cd-a4c3-d11b1acb83af",
   "metadata": {},
   "source": [
    "##### 5. Python Program to Check if binary representation is a palindrome\n"
   ]
  },
  {
   "cell_type": "code",
   "execution_count": 38,
   "id": "80d962be-41d7-4168-8aac-8f1693b83e26",
   "metadata": {},
   "outputs": [
    {
     "name": "stdin",
     "output_type": "stream",
     "text": [
      "Enter a number: 5\n"
     ]
    },
    {
     "name": "stdout",
     "output_type": "stream",
     "text": [
      "Binary representation of a 5 is a 'palindrome'\n"
     ]
    }
   ],
   "source": [
    "def palindrome(num):\n",
    "    #print(\"Binary of a number\", bin(num))\n",
    "    if bin(num)[2:]==bin(num)[-1:1:-1]:\n",
    "        print(f\"Binary representation of a {num} is a 'palindrome'\")\n",
    "    else:\n",
    "        print(f\"Binary representation of a {num} is not a 'palindrome'\")\n",
    "palindrome(int(input(\"Enter a number:\")))\n",
    "    "
   ]
  },
  {
   "cell_type": "markdown",
   "id": "f95b192e-2866-4877-b26a-24b48e137c9b",
   "metadata": {},
   "source": [
    "##### 6. Python Program for Number of elements with odd factors in a given range"
   ]
  },
  {
   "cell_type": "code",
   "execution_count": 64,
   "id": "1156647d-be44-41c0-8a48-ec352b8bce75",
   "metadata": {},
   "outputs": [
    {
     "data": {
      "text/plain": [
       "{7: [7], 9: [3, 9]}"
      ]
     },
     "execution_count": 64,
     "metadata": {},
     "output_type": "execute_result"
    }
   ],
   "source": [
    "def factors(tup):\n",
    "   dict1={}\n",
    "   for n in tup:\n",
    "    #print(n)\n",
    "    l1=[i for i in range(2,n+1) if n%i==0 and i%2!=0]\n",
    "    if l1:\n",
    "        dict1.update([(n,l1)])\n",
    "   return dict1\n",
    "\n",
    "factors(range(7,10))"
   ]
  },
  {
   "cell_type": "markdown",
   "id": "1cde8f4b-25e0-4908-a387-ece6960aa8f8",
   "metadata": {},
   "source": [
    "##### 7. Python Program for Common Divisors of Two Numbers"
   ]
  },
  {
   "cell_type": "code",
   "execution_count": 70,
   "id": "ed766a22-6bf8-4a43-a7ca-8736213a727f",
   "metadata": {},
   "outputs": [
    {
     "name": "stdout",
     "output_type": "stream",
     "text": [
      "Common divisors of two numbers: [2, 4, 8, 16]\n"
     ]
    }
   ],
   "source": [
    "def factors(a,b):\n",
    "   n= a if a>b else b\n",
    "   l1=[i for i in range(2,n//2+1) if a%i==0 and b%i==0]\n",
    "   return l1\n",
    "print(\"Common divisors of two numbers:\",factors(16,32))"
   ]
  },
  {
   "cell_type": "markdown",
   "id": "8c2a1b43-6ee9-4ded-a3fc-4fafd531667e",
   "metadata": {},
   "source": [
    "##### 8. Python Program to Check if a count of divisors is even or odd"
   ]
  },
  {
   "cell_type": "code",
   "execution_count": 75,
   "id": "3fbe46ba-6ec5-4a5b-b3e9-a4d57ff7bddf",
   "metadata": {},
   "outputs": [
    {
     "name": "stdout",
     "output_type": "stream",
     "text": [
      "[3]\n",
      "a count of divisors is odd\n"
     ]
    }
   ],
   "source": [
    "def factors(n):\n",
    "   l1=[i for i in range(2,n//2+1) if n%i==0]\n",
    "   print(l1)\n",
    "   print(\"a count of divisors is even\") if len(l1)%2==0 else print(\"a count of divisors is odd\")\n",
    "factors(9)"
   ]
  },
  {
   "cell_type": "markdown",
   "id": "7826ea21-8990-4921-8755-e7fcbfcaea05",
   "metadata": {},
   "source": [
    "##### 9. Python Program to Find the minimum sum of factors of a number"
   ]
  },
  {
   "cell_type": "code",
   "execution_count": 90,
   "id": "7940cb3b-5c78-4b07-80bc-710c444b56e8",
   "metadata": {},
   "outputs": [
    {
     "name": "stdout",
     "output_type": "stream",
     "text": [
      "Factors of a number: [(2, 6), (3, 4), (4, 3), (6, 2)]\n",
      "The minimum sum of factors: 7\n"
     ]
    }
   ],
   "source": [
    "def sum_fact(n):\n",
    "    l1=[(i,n//i) for i in range(2,n//2+1) if n%i==0]\n",
    "    print(\"Factors of a number:\",l1)\n",
    "    l2=[sum(j) for j in l1] \n",
    "    return min(l2)\n",
    "print(\"The minimum sum of factors:\",sum_fact(12))\n"
   ]
  },
  {
   "cell_type": "markdown",
   "id": "0c295f7d-928f-4264-84d5-148d05af3c35",
   "metadata": {},
   "source": [
    "##### 10. Python Program to find Difference between sums of odd and even digits"
   ]
  },
  {
   "cell_type": "code",
   "execution_count": 115,
   "id": "263e1a69-27a1-4bbf-93dc-7c294a5ccfa6",
   "metadata": {},
   "outputs": [
    {
     "name": "stdin",
     "output_type": "stream",
     "text": [
      "Enter the number: 4567\n"
     ]
    },
    {
     "name": "stdout",
     "output_type": "stream",
     "text": [
      "sum of even and odd digit: (10, 12)\n"
     ]
    }
   ],
   "source": [
    "def odd_even_fun(n):\n",
    " sum_odd=0\n",
    " sum_even=0\n",
    " while n>0:\n",
    "    if (n%10)%2==0:\n",
    "        sum_even+=(n%10)\n",
    "    else:\n",
    "        sum_odd+=(n%10)\n",
    "    n//=10\n",
    " return sum_even,sum_odd\n",
    "\n",
    "print(\"sum of even and odd digit:\",odd_even_fun(int(input(\"Enter the number:\"))))\n",
    "    \n",
    "    "
   ]
  },
  {
   "cell_type": "markdown",
   "id": "f8645dc6-4f4c-4fa8-904c-853067336a45",
   "metadata": {},
   "source": [
    "##### 11. Python Program for Largest and Smallest K digit number divisible by X"
   ]
  },
  {
   "cell_type": "code",
   "execution_count": 4,
   "id": "a1314713-0242-4419-86cf-572514b01fc9",
   "metadata": {},
   "outputs": [
    {
     "name": "stdout",
     "output_type": "stream",
     "text": [
      "Smallest 3 number divisible by 5 is 100\n",
      "Largest 3 number divisible by 5 is 995\n"
     ]
    }
   ],
   "source": [
    "def output(k,x):\n",
    "    start=int(\"1\"+\"0\"*(k-1))\n",
    "    end=int(\"9\"*k)\n",
    "    while start%x!=0:\n",
    "          start+=1\n",
    "    while end%x!=0:\n",
    "          end-=1\n",
    "    return start,end,k,x\n",
    "\n",
    "Smallest,Largest,digit,num=output(3,5)\n",
    "print(f\"Smallest {digit} number divisible by {num} is {Smallest}\")\n",
    "print(f\"Largest {digit} number divisible by {num} is {Largest}\")"
   ]
  },
  {
   "cell_type": "markdown",
   "id": "2fe6b655-5cff-4d05-8b5c-19dd3c167644",
   "metadata": {},
   "source": [
    "##### 12. Python Program to calculate the area of a Tetrahedron"
   ]
  },
  {
   "cell_type": "code",
   "execution_count": null,
   "id": "1bb9f297-307b-4a1b-9a0d-619c0b227689",
   "metadata": {},
   "outputs": [],
   "source": [
    "import math \n",
    "def area_tetra(a):\n",
    "    return \"%.2f\"%(math.sqrt(3)*(a**2))\n",
    "print(\"The area of a Tetrahedron:\",area_tetra(eval(input(\"Enter the edge value:\"))))"
   ]
  },
  {
   "cell_type": "code",
   "execution_count": 122,
   "id": "741ae889-d580-4fee-a0be-2e22005e157c",
   "metadata": {},
   "outputs": [
    {
     "name": "stdout",
     "output_type": "stream",
     "text": [
      "['__abs__', '__add__', '__and__', '__bool__', '__ceil__', '__class__', '__delattr__', '__dir__', '__divmod__', '__doc__', '__eq__', '__float__', '__floor__', '__floordiv__', '__format__', '__ge__', '__getattribute__', '__getnewargs__', '__getstate__', '__gt__', '__hash__', '__index__', '__init__', '__init_subclass__', '__int__', '__invert__', '__le__', '__lshift__', '__lt__', '__mod__', '__mul__', '__ne__', '__neg__', '__new__', '__or__', '__pos__', '__pow__', '__radd__', '__rand__', '__rdivmod__', '__reduce__', '__reduce_ex__', '__repr__', '__rfloordiv__', '__rlshift__', '__rmod__', '__rmul__', '__ror__', '__round__', '__rpow__', '__rrshift__', '__rshift__', '__rsub__', '__rtruediv__', '__rxor__', '__setattr__', '__sizeof__', '__str__', '__sub__', '__subclasshook__', '__truediv__', '__trunc__', '__xor__', 'as_integer_ratio', 'bit_count', 'bit_length', 'conjugate', 'denominator', 'from_bytes', 'imag', 'numerator', 'real', 'to_bytes']\n"
     ]
    }
   ],
   "source": [
    "print(dir(int))"
   ]
  },
  {
   "cell_type": "markdown",
   "id": "f380306c-fd84-454f-b0af-ac211cec4f2b",
   "metadata": {},
   "source": [
    "##### 13. Python Program to Find the perimeter of a cylinder"
   ]
  },
  {
   "cell_type": "code",
   "execution_count": 129,
   "id": "526d4f17-3798-4f66-a6fe-925cd4606812",
   "metadata": {},
   "outputs": [
    {
     "name": "stdin",
     "output_type": "stream",
     "text": [
      "Enter the radius and height of cylinder: 1.231,5.213\n"
     ]
    },
    {
     "name": "stdout",
     "output_type": "stream",
     "text": [
      "The perimeter of a cylinder: 15.35\n"
     ]
    }
   ],
   "source": [
    "#perimeter of cylinder = 2(2r + h) or 4r + 2h\n",
    "def peri_cylinder(r,h):\n",
    "    return '{:.2f}'.format(4*r+2*h)\n",
    "rad_height=input(\"Enter the radius and height of cylinder:\").split(',')\n",
    "print(\"The perimeter of a cylinder:\",peri_cylinder(eval(rad_height[0]),eval(rad_height[1])))"
   ]
  },
  {
   "cell_type": "markdown",
   "id": "2d577343-9121-408f-9b68-3ace428edf5d",
   "metadata": {},
   "source": [
    "##### 15. Python program to find the most occurring character and its count"
   ]
  },
  {
   "cell_type": "code",
   "execution_count": 143,
   "id": "577b0003-d7e0-45e3-be29-63c485e39235",
   "metadata": {},
   "outputs": [
    {
     "data": {
      "text/plain": [
       "('h', 3)"
      ]
     },
     "execution_count": 143,
     "metadata": {},
     "output_type": "execute_result"
    }
   ],
   "source": [
    "def char_count(j):\n",
    "    max_count=0\n",
    "    list_char=list(set(j))\n",
    "    for i in list_char:\n",
    "        if max_count<j.count(i):\n",
    "            character,max_count=i,j.count(i)\n",
    "    return character,max_count\n",
    "char_count(\"jkhdjukahh\")   "
   ]
  },
  {
   "cell_type": "markdown",
   "id": "1b83e0f0-c020-4993-b8a0-61ed2d3fe85c",
   "metadata": {},
   "source": [
    "##### 16. Python Program to Find the sum of even factors of a number"
   ]
  },
  {
   "cell_type": "code",
   "execution_count": 155,
   "id": "8d583f47-8a1e-4388-a917-0633571a6e51",
   "metadata": {},
   "outputs": [
    {
     "name": "stdout",
     "output_type": "stream",
     "text": [
      "[2, 4, 6] 12\n",
      "sum=12 and even factors=[2, 4, 6]\n"
     ]
    }
   ],
   "source": [
    "def factors(n):\n",
    "   l1=[i for i in range(2,n//2+1) if n%i==0 and i%2==0]\n",
    "   return sum(l1),l1\n",
    "sum_of_even_factors, even_factors=factors(12)\n",
    "print(\"sum={} and even factors={}\".format(sum_of_even_factors,even_factors))"
   ]
  },
  {
   "cell_type": "markdown",
   "id": "cc890a68-afe0-44e6-b0e1-f128271abdd5",
   "metadata": {},
   "source": [
    "##### 17. Python Program to Check if all digits of a number divide it"
   ]
  },
  {
   "cell_type": "code",
   "execution_count": 169,
   "id": "55dc5ca3-2062-4d69-8ece-b4d0c25db0c6",
   "metadata": {},
   "outputs": [
    {
     "name": "stdout",
     "output_type": "stream",
     "text": [
      "All digits of a number does not divide a number\n"
     ]
    }
   ],
   "source": [
    "l1=[]\n",
    "def divisibility(num):\n",
    "    number=num\n",
    "    while num>0:\n",
    "        if number%(num%10)==0:\n",
    "            l1.append(num%10)\n",
    "            print(l1)\n",
    "            num//=10\n",
    "        else:\n",
    "            print(\"All digits of a number does not divide a number\")\n",
    "            break\n",
    "    return l1 if len(l1)>0 else None\n",
    "\n",
    "divisibility(49)\n",
    "    \n"
   ]
  },
  {
   "cell_type": "markdown",
   "id": "0a8a9e66-1a65-48e4-a32b-52f62a498c4e",
   "metadata": {},
   "source": [
    "##### 18. Python program to convert float decimal to Octal number"
   ]
  },
  {
   "cell_type": "code",
   "execution_count": 185,
   "id": "e37754e7-9a00-4452-abe2-57838120c3ae",
   "metadata": {},
   "outputs": [
    {
     "data": {
      "text/plain": [
       "'27.1676355442641626'"
      ]
     },
     "execution_count": 185,
     "metadata": {},
     "output_type": "execute_result"
    }
   ],
   "source": [
    "def float_octal(n):\n",
    "    int_=int(n)\n",
    "    fract_=n-int_\n",
    "    int_oct_part=oct(int_)[2:]     #integral part is converted in oct, [2:] removes 'O0' prefix from octal number\n",
    "    fract_oct_part=''\n",
    "    while fract_>0.1:\n",
    "       fract_=fract_*8\n",
    "       fract_oct_part+=str(int(fract_))   \n",
    "       fract_-=int(fract_)\n",
    "    \n",
    "    return int_oct_part+'.'+fract_oct_part\n",
    "\n",
    "float_octal(23.234)"
   ]
  },
  {
   "cell_type": "markdown",
   "id": "55fe8896-67b1-4221-b4fd-515d313521f2",
   "metadata": {},
   "source": [
    "##### 19. Python program to copy odd lines of one file to other"
   ]
  },
  {
   "cell_type": "code",
   "execution_count": 19,
   "id": "3e1bf1ad-3c74-4123-9c16-1c01bac1adf8",
   "metadata": {},
   "outputs": [
    {
     "name": "stdout",
     "output_type": "stream",
     "text": [
      "much of your time will \n",
      "with texts of all types, \n",
      "and delivery methods. \n",
      "Oh, it is. In the \n",
      "sections, \n",
      "explore the \n",
      "what they \n",
      "and how to explore \n",
      "\n"
     ]
    }
   ],
   "source": [
    "import os\n",
    "import re\n",
    "text='''As a college student, \n",
    "much of your time will \n",
    "be spent interacting \n",
    "with texts of all types, \n",
    "shapes, sizes, \n",
    "and delivery methods. \n",
    "Sound interesting? \n",
    "Oh, it is. In the \n",
    "following \n",
    "sections, \n",
    "we’ll \n",
    "explore the \n",
    "nature of texts, \n",
    "what they \n",
    "will mean to you, \n",
    "and how to explore \n",
    "and use them effectively.\n",
    "'''\n",
    "file=open(\"source_file.txt\",'w')\n",
    "file.write(text)\n",
    "file.close()\n",
    "\n",
    "with open(\"source_file.txt\",'r') as file:\n",
    " source_text=file.read()\n",
    "lines=re.findall(\".+\",source_text)\n",
    "with open(\"destination.txt\",'w') as file1:\n",
    "    for i in range(1,len(lines),2):\n",
    "        file1.write(lines[i]+'\\n')\n",
    "\n",
    "with open(\"destination.txt\",'r') as file1:\n",
    " destination_text=file1.read()\n",
    "print(destination_text)"
   ]
  },
  {
   "cell_type": "markdown",
   "id": "683c96da-c376-4e2a-bf5f-53c5570236e4",
   "metadata": {},
   "source": [
    "##### 20. Write a Python program to replace whitespaces with an underscore and vice versa"
   ]
  },
  {
   "cell_type": "code",
   "execution_count": 70,
   "id": "43ec11e8-3f98-4139-8da4-18e3984400c4",
   "metadata": {},
   "outputs": [
    {
     "name": "stdout",
     "output_type": "stream",
     "text": [
      "this_is_sample text_for_above code_to_get implement it's_justa_randon13u9_text .\n"
     ]
    }
   ],
   "source": [
    "import re\n",
    "text=\"this is sample_text for above_code to get_implement_it's justa randon13u9 text_.\"\n",
    "text1=re.sub(\"@\",' ',re.sub(\"\\s\",'_',re.sub(\"_\",'@',text)))\n",
    "print(text1)"
   ]
  },
  {
   "cell_type": "markdown",
   "id": "328d262a-8399-4441-a521-02b8596d2489",
   "metadata": {},
   "source": [
    "##### 21. Write a Python program to convert a date or yyyy-mm-dd format to dd-mm-yyyy\n"
   ]
  },
  {
   "cell_type": "code",
   "execution_count": 76,
   "id": "9f3195e8-b045-4296-879a-736f8635b35b",
   "metadata": {},
   "outputs": [
    {
     "name": "stdout",
     "output_type": "stream",
     "text": [
      "05-12-1845\n"
     ]
    }
   ],
   "source": [
    "import datetime\n",
    "date='1845-12-5'\n",
    "date2=datetime.datetime.strptime(date,'%Y-%m-%d').strftime('%d-%m-%Y')\n",
    "print(date2)\n"
   ]
  },
  {
   "cell_type": "markdown",
   "id": "3ea129a6-24e1-46b9-bd6a-03ef6d503c9e",
   "metadata": {},
   "source": [
    "##### 22. Write a Python program to find all words starting with 'a' or 'e' in a given string.\n"
   ]
  },
  {
   "cell_type": "code",
   "execution_count": 50,
   "id": "1c8aca21-3fd9-47fa-a578-24a23bfc7e45",
   "metadata": {},
   "outputs": [
    {
     "data": {
      "text/plain": [
       "['es', 'ample_text', 'efor', 'a', 'andon13u9']"
      ]
     },
     "execution_count": 50,
     "metadata": {},
     "output_type": "execute_result"
    }
   ],
   "source": [
    "text=\"this es ample_text efor 6above_code to get_implement_it's just@a andon13u9 text_.\"\n",
    "test1=re.findall(r'\\b[a,e]\\w*',text)\n",
    "test1\n"
   ]
  },
  {
   "cell_type": "markdown",
   "id": "29ad0d01-2ad4-4b20-901e-18cb45f088e7",
   "metadata": {},
   "source": [
    "##### 23. Write a Python program to abbreviate 'Road' as 'Rd.' in a given string."
   ]
  },
  {
   "cell_type": "code",
   "execution_count": 5,
   "id": "b45f71d4-804c-4910-b3c4-2dae41027c02",
   "metadata": {},
   "outputs": [
    {
     "name": "stdout",
     "output_type": "stream",
     "text": [
      "this is sample_text for Rd to get_implement_it's Rd@a randon13u9 text_.\n"
     ]
    }
   ],
   "source": [
    "text=\"this is sample_text for Road to get_implement_it's Road@a randon13u9 text_.\"\n",
    "text1=re.sub(\"Road\",'Rd',text)\n",
    "print(text1)"
   ]
  },
  {
   "cell_type": "code",
   "execution_count": null,
   "id": "d6b242d8-3b89-4cad-a78d-770a0ec0b2b3",
   "metadata": {},
   "outputs": [],
   "source": []
  }
 ],
 "metadata": {
  "kernelspec": {
   "display_name": "Python 3 (ipykernel)",
   "language": "python",
   "name": "python3"
  },
  "language_info": {
   "codemirror_mode": {
    "name": "ipython",
    "version": 3
   },
   "file_extension": ".py",
   "mimetype": "text/x-python",
   "name": "python",
   "nbconvert_exporter": "python",
   "pygments_lexer": "ipython3",
   "version": "3.11.2"
  }
 },
 "nbformat": 4,
 "nbformat_minor": 5
}
