{
 "cells": [
  {
   "cell_type": "markdown",
   "id": "214ea118",
   "metadata": {},
   "source": [
    "### Abstraction"
   ]
  },
  {
   "cell_type": "code",
   "execution_count": null,
   "id": "b37b4f8e",
   "metadata": {},
   "outputs": [],
   "source": [
    "Blueprint of a project\n",
    "Blueprint of other classes\n",
    "\n",
    "Abstract class is only used for declaration, not for implementation\n",
    "We can not create object of Abstract class\n",
    "\n",
    "It is used to hide internal functionality of your project\n",
    "It is used to hide irrelevant data/unused data/attributes in order to reduce complexity and ehance efficiency\n",
    "By default python does not support abstract class (We need to import abc module)\n",
    "\n",
    "Abstract class contains one or more abstract methods\n",
    "\n",
    "@abstractmethod decorator is used to define abstract method"
   ]
  },
  {
   "cell_type": "code",
   "execution_count": null,
   "id": "2c933b64",
   "metadata": {},
   "outputs": [],
   "source": [
    "1. Normal Class\n",
    "2. Abstract Class"
   ]
  },
  {
   "cell_type": "code",
   "execution_count": 1,
   "id": "8136681c",
   "metadata": {},
   "outputs": [],
   "source": [
    "class Parent:\n",
    "    pass\n",
    "\n",
    "class Child(Parent):\n",
    "    pass\n",
    "\n",
    "c1 = Child()"
   ]
  },
  {
   "cell_type": "code",
   "execution_count": 3,
   "id": "cba3d448",
   "metadata": {},
   "outputs": [
    {
     "name": "stdout",
     "output_type": "stream",
     "text": [
      "Registration Function of Project Blueprint Class\n",
      "Login Function of Project Blueprint Class\n"
     ]
    }
   ],
   "source": [
    "class ProjectBlueprint():\n",
    "    def registration(self):\n",
    "        print('Registration Function of Project Blueprint Class')\n",
    "        \n",
    "    def login(self):\n",
    "        print('Login Function of Project Blueprint Class')\n",
    "        \n",
    "proj = ProjectBlueprint()\n",
    "proj.registration()\n",
    "proj.login()"
   ]
  },
  {
   "cell_type": "code",
   "execution_count": 4,
   "id": "30ff69ea",
   "metadata": {},
   "outputs": [
    {
     "name": "stdout",
     "output_type": "stream",
     "text": [
      "Registration Function of Credit Risk Model Class\n",
      "Login Function of Credit Risk Model Class\n"
     ]
    }
   ],
   "source": [
    "class ProjectBlueprint():\n",
    "    def registration(self):\n",
    "        print('Registration Function of Project Blueprint Class')\n",
    "        \n",
    "    def login(self):\n",
    "        print('Login Function of Project Blueprint Class')\n",
    "        \n",
    "class CreditRiskModel(ProjectBlueprint):\n",
    "    def registration(self):\n",
    "        print('Registration Function of Credit Risk Model Class')\n",
    "        \n",
    "    def login(self):\n",
    "        print('Login Function of Credit Risk Model Class')\n",
    "        \n",
    "cred = CreditRiskModel()\n",
    "cred.registration()\n",
    "cred.login()"
   ]
  },
  {
   "cell_type": "code",
   "execution_count": 5,
   "id": "8594358c",
   "metadata": {},
   "outputs": [
    {
     "name": "stdout",
     "output_type": "stream",
     "text": [
      "Registration Function of Credit Risk Model Class\n",
      "Login Function of Project Blueprint Class\n"
     ]
    }
   ],
   "source": [
    "class ProjectBlueprint():\n",
    "    def registration(self):\n",
    "        print('Registration Function of Project Blueprint Class')\n",
    "        \n",
    "    def login(self):\n",
    "        print('Login Function of Project Blueprint Class')\n",
    "        \n",
    "class CreditRiskModel(ProjectBlueprint):\n",
    "    def registration(self):\n",
    "        print('Registration Function of Credit Risk Model Class')\n",
    "        \n",
    "#     def login(self):\n",
    "#         print('Login Function of Credit Risk Model Class')\n",
    "        \n",
    "cred = CreditRiskModel()\n",
    "cred.registration()\n",
    "cred.login()"
   ]
  },
  {
   "cell_type": "code",
   "execution_count": 6,
   "id": "9e7e28ce",
   "metadata": {},
   "outputs": [
    {
     "name": "stdout",
     "output_type": "stream",
     "text": [
      "Registration Function of Credit Risk Model Class\n",
      "Login Function of Credit Risk Model Class\n"
     ]
    }
   ],
   "source": [
    "class ProjectBlueprint():\n",
    "    def registration(self):\n",
    "        print('Registration Function of Project Blueprint Class')\n",
    "        \n",
    "#     def login(self):\n",
    "#         print('Login Function of Project Blueprint Class')\n",
    "        \n",
    "class CreditRiskModel(ProjectBlueprint):\n",
    "    def registration(self):\n",
    "        print('Registration Function of Credit Risk Model Class')\n",
    "        \n",
    "    def login(self):\n",
    "        print('Login Function of Credit Risk Model Class')\n",
    "        \n",
    "cred = CreditRiskModel()\n",
    "cred.registration()\n",
    "cred.login()"
   ]
  },
  {
   "cell_type": "code",
   "execution_count": 1,
   "id": "8e39934e",
   "metadata": {},
   "outputs": [
    {
     "ename": "TypeError",
     "evalue": "Can't instantiate abstract class CreditRiskModel with abstract method registration",
     "output_type": "error",
     "traceback": [
      "\u001b[1;31m---------------------------------------------------------------------------\u001b[0m",
      "\u001b[1;31mTypeError\u001b[0m                                 Traceback (most recent call last)",
      "Cell \u001b[1;32mIn[1], line 19\u001b[0m\n\u001b[0;32m     16\u001b[0m     \u001b[38;5;28;01mdef\u001b[39;00m \u001b[38;5;21mlogin\u001b[39m(\u001b[38;5;28mself\u001b[39m):\n\u001b[0;32m     17\u001b[0m         \u001b[38;5;28mprint\u001b[39m(\u001b[38;5;124m'\u001b[39m\u001b[38;5;124mLogin Function of Credit Risk Model Class\u001b[39m\u001b[38;5;124m'\u001b[39m)\n\u001b[1;32m---> 19\u001b[0m cred \u001b[38;5;241m=\u001b[39m \u001b[43mCreditRiskModel\u001b[49m\u001b[43m(\u001b[49m\u001b[43m)\u001b[49m\n\u001b[0;32m     20\u001b[0m \u001b[38;5;66;03m# cred.registration()\u001b[39;00m\n\u001b[0;32m     21\u001b[0m \u001b[38;5;66;03m# cred.login()\u001b[39;00m\n",
      "\u001b[1;31mTypeError\u001b[0m: Can't instantiate abstract class CreditRiskModel with abstract method registration"
     ]
    }
   ],
   "source": [
    "from abc import ABC, abstractmethod\n",
    "\n",
    "class ProjectBlueprint(ABC):    # Abstract class\n",
    "    \n",
    "    @abstractmethod             # decorator\n",
    "    def registration(self):     # abstract method\n",
    "        print('Registration Function of Project Blueprint Class')\n",
    "        \n",
    "    def login(self):\n",
    "        print('Login Function of Project Blueprint Class')\n",
    "        \n",
    "class CreditRiskModel(ProjectBlueprint):\n",
    "#     def registration(self):\n",
    "#         print('Registration Function of Credit Risk Model Class')\n",
    "        \n",
    "    def login(self):\n",
    "        print('Login Function of Credit Risk Model Class')\n",
    "        \n",
    "cred = CreditRiskModel()\n",
    "# cred.registration()\n",
    "# cred.login()"
   ]
  },
  {
   "cell_type": "code",
   "execution_count": 2,
   "id": "00c3b4f4",
   "metadata": {},
   "outputs": [
    {
     "name": "stdout",
     "output_type": "stream",
     "text": [
      "Registration Function of Credit Risk Model Class\n",
      "Login Function of Project Blueprint Class\n"
     ]
    }
   ],
   "source": [
    "from abc import ABC, abstractmethod\n",
    "\n",
    "class ProjectBlueprint(ABC):    # Abstract class\n",
    "    \n",
    "    @abstractmethod             # decorator\n",
    "    def registration(self):     # abstract method\n",
    "        print('Registration Function of Project Blueprint Class')\n",
    "        \n",
    "    def login(self):\n",
    "        print('Login Function of Project Blueprint Class')\n",
    "        \n",
    "class CreditRiskModel(ProjectBlueprint):\n",
    "    def registration(self):\n",
    "        print('Registration Function of Credit Risk Model Class')\n",
    "        \n",
    "#     def login(self):\n",
    "#         print('Login Function of Credit Risk Model Class')\n",
    "        \n",
    "cred = CreditRiskModel()\n",
    "cred.registration()\n",
    "cred.login()"
   ]
  },
  {
   "cell_type": "code",
   "execution_count": 3,
   "id": "7e73bb05",
   "metadata": {},
   "outputs": [
    {
     "name": "stdout",
     "output_type": "stream",
     "text": [
      "Registration Function of Credit Risk Model Class\n",
      "Process Document Function of Project Blueprint Class\n"
     ]
    }
   ],
   "source": [
    "from abc import ABC, abstractmethod\n",
    "\n",
    "class ProjectBlueprint(ABC):    # Abstract class\n",
    "    \n",
    "    @abstractmethod             # decorator\n",
    "    def registration(self):     # abstract method\n",
    "        print('Registration Function of Project Blueprint Class')\n",
    "        \n",
    "    def login(self):\n",
    "        print('Login Function of Project Blueprint Class')\n",
    "        \n",
    "    def process_document(self):\n",
    "        print('Process Document Function of Project Blueprint Class')\n",
    "        \n",
    "class CreditRiskModel(ProjectBlueprint):\n",
    "    def registration(self):\n",
    "        print('Registration Function of Credit Risk Model Class')\n",
    "        \n",
    "    def login(self):\n",
    "        print('Login Function of Credit Risk Model Class')\n",
    "        \n",
    "cred = CreditRiskModel()\n",
    "cred.registration()\n",
    "# cred.login()\n",
    "cred.process_document()"
   ]
  },
  {
   "cell_type": "code",
   "execution_count": 15,
   "id": "394aee75",
   "metadata": {},
   "outputs": [
    {
     "ename": "TypeError",
     "evalue": "Can't instantiate abstract class CreditRiskModel with abstract method process_document",
     "output_type": "error",
     "traceback": [
      "\u001b[1;31m---------------------------------------------------------------------------\u001b[0m",
      "\u001b[1;31mTypeError\u001b[0m                                 Traceback (most recent call last)",
      "Input \u001b[1;32mIn [15]\u001b[0m, in \u001b[0;36m<cell line: 23>\u001b[1;34m()\u001b[0m\n\u001b[0;32m     20\u001b[0m     \u001b[38;5;28;01mdef\u001b[39;00m \u001b[38;5;21mlogin\u001b[39m(\u001b[38;5;28mself\u001b[39m):\n\u001b[0;32m     21\u001b[0m         \u001b[38;5;28mprint\u001b[39m(\u001b[38;5;124m'\u001b[39m\u001b[38;5;124mLogin Function of Credit Risk Model Class\u001b[39m\u001b[38;5;124m'\u001b[39m)\n\u001b[1;32m---> 23\u001b[0m cred \u001b[38;5;241m=\u001b[39m \u001b[43mCreditRiskModel\u001b[49m\u001b[43m(\u001b[49m\u001b[43m)\u001b[49m\n",
      "\u001b[1;31mTypeError\u001b[0m: Can't instantiate abstract class CreditRiskModel with abstract method process_document"
     ]
    }
   ],
   "source": [
    "from abc import ABC, abstractmethod\n",
    "\n",
    "class ProjectBlueprint(ABC):    # Abstract class\n",
    "    \n",
    "    @abstractmethod             # decorator\n",
    "    def registration(self):     # abstract method\n",
    "        print('Registration Function of Project Blueprint Class')\n",
    "        \n",
    "    def login(self):\n",
    "        print('Login Function of Project Blueprint Class')\n",
    "        \n",
    "    @abstractmethod\n",
    "    def process_document(self):\n",
    "        print('Process Document Function of Project Blueprint Class')\n",
    "        \n",
    "class CreditRiskModel(ProjectBlueprint):\n",
    "    def registration(self):\n",
    "        print('Registration Function of Credit Risk Model Class')\n",
    "        \n",
    "    def login(self):\n",
    "        print('Login Function of Credit Risk Model Class')\n",
    "        \n",
    "cred = CreditRiskModel()\n",
    "# cred.registration()\n",
    "# cred.login()\n",
    "# cred.process_document()"
   ]
  },
  {
   "cell_type": "code",
   "execution_count": 6,
   "id": "a402aad3",
   "metadata": {},
   "outputs": [
    {
     "name": "stdout",
     "output_type": "stream",
     "text": [
      "Registration Function of Credit Risk Model Class\n",
      "Process Document Function of Credit Risk Model Class\n"
     ]
    }
   ],
   "source": [
    "from abc import ABC, abstractmethod\n",
    "\n",
    "class ProjectBlueprint(ABC):    # Abstract class\n",
    "    \n",
    "    @abstractmethod             # decorator\n",
    "    def registration(self):     # abstract method\n",
    "        print('Registration Function of Project Blueprint Class')\n",
    "        \n",
    "    def login(self):\n",
    "        print('Login Function of Project Blueprint Class')\n",
    "        \n",
    "    @abstractmethod\n",
    "    def process_document(self):\n",
    "        print('Process Document Function of Project Blueprint Class')\n",
    "        \n",
    "class CreditRiskModel(ProjectBlueprint):\n",
    "    def registration(self):\n",
    "        print('Registration Function of Credit Risk Model Class')\n",
    "        \n",
    "    def login(self):\n",
    "        print('Login Function of Credit Risk Model Class')\n",
    "        \n",
    "    def process_document(self):\n",
    "         print('Process Document Function of Credit Risk Model Class')\n",
    "        \n",
    "cred = CreditRiskModel()\n",
    "cred.registration()\n",
    "# cred.login()\n",
    "cred.process_document()"
   ]
  },
  {
   "cell_type": "code",
   "execution_count": 18,
   "id": "b68db91d",
   "metadata": {},
   "outputs": [
    {
     "ename": "TypeError",
     "evalue": "Can't instantiate abstract class ProjectBlueprint with abstract methods process_document, registration",
     "output_type": "error",
     "traceback": [
      "\u001b[1;31m---------------------------------------------------------------------------\u001b[0m",
      "\u001b[1;31mTypeError\u001b[0m                                 Traceback (most recent call last)",
      "Input \u001b[1;32mIn [18]\u001b[0m, in \u001b[0;36m<cell line: 26>\u001b[1;34m()\u001b[0m\n\u001b[0;32m     23\u001b[0m     \u001b[38;5;28;01mdef\u001b[39;00m \u001b[38;5;21mprocess_document\u001b[39m(\u001b[38;5;28mself\u001b[39m):\n\u001b[0;32m     24\u001b[0m         \u001b[38;5;28mprint\u001b[39m(\u001b[38;5;124m'\u001b[39m\u001b[38;5;124mProcess Document Function of Credit Risk Model Class\u001b[39m\u001b[38;5;124m'\u001b[39m)\n\u001b[1;32m---> 26\u001b[0m proj \u001b[38;5;241m=\u001b[39m \u001b[43mProjectBlueprint\u001b[49m\u001b[43m(\u001b[49m\u001b[43m)\u001b[49m\n",
      "\u001b[1;31mTypeError\u001b[0m: Can't instantiate abstract class ProjectBlueprint with abstract methods process_document, registration"
     ]
    }
   ],
   "source": [
    "from abc import ABC, abstractmethod\n",
    "\n",
    "class ProjectBlueprint(ABC):    # Abstract class\n",
    "    \n",
    "    @abstractmethod             # decorator\n",
    "    def registration(self):     # abstract method\n",
    "        print('Registration Function of Project Blueprint Class')\n",
    "        \n",
    "    def login(self):\n",
    "        print('Login Function of Project Blueprint Class')\n",
    "        \n",
    "    @abstractmethod\n",
    "    def process_document(self):\n",
    "        print('Process Document Function of Project Blueprint Class')\n",
    "        \n",
    "class CreditRiskModel(ProjectBlueprint):\n",
    "    def registration(self):\n",
    "        print('Registration Function of Credit Risk Model Class')\n",
    "        \n",
    "    def login(self):\n",
    "        print('Login Function of Credit Risk Model Class')\n",
    "        \n",
    "    def process_document(self):\n",
    "        print('Process Document Function of Credit Risk Model Class')\n",
    "        \n",
    "proj = ProjectBlueprint()"
   ]
  },
  {
   "cell_type": "code",
   "execution_count": 22,
   "id": "1dd47ea3",
   "metadata": {},
   "outputs": [
    {
     "name": "stdout",
     "output_type": "stream",
     "text": [
      "Registration Function of Credit Risk Model Class\n",
      "Login Function of Credit Risk Model Class\n",
      "Process Document Function of Credit Risk Model Class\n",
      "\n",
      "Registration Function of House Price Prediction Class\n",
      "Login Function of House Price Prediction Class\n",
      "Process Document Function of House Price Prediction Class\n"
     ]
    }
   ],
   "source": [
    "from abc import ABC, abstractmethod\n",
    "\n",
    "class ProjectBlueprint(ABC):    # Abstract class\n",
    "    \n",
    "    @abstractmethod             # decorator\n",
    "    def registration(self):     # abstract method\n",
    "        print('Registration Function of Project Blueprint Class')\n",
    "     \n",
    "    @abstractmethod\n",
    "    def login(self):\n",
    "        print('Login Function of Project Blueprint Class')\n",
    "        \n",
    "    def process_document(self):\n",
    "        print('Process Document Function of Project Blueprint Class')\n",
    "        \n",
    "class CreditRiskModel(ProjectBlueprint):\n",
    "    def registration(self):\n",
    "        print('Registration Function of Credit Risk Model Class')\n",
    "        \n",
    "    def login(self):\n",
    "        print('Login Function of Credit Risk Model Class')\n",
    "        \n",
    "    def process_document(self):\n",
    "        print('Process Document Function of Credit Risk Model Class')\n",
    "        \n",
    "class HousePricePrediction(ProjectBlueprint):\n",
    "    def registration(self):\n",
    "        print('Registration Function of House Price Prediction Class')\n",
    "        \n",
    "    def login(self):\n",
    "        print('Login Function of House Price Prediction Class')\n",
    "        \n",
    "    def process_document(self):\n",
    "        print('Process Document Function of House Price Prediction Class')\n",
    "        \n",
    "cred = CreditRiskModel()\n",
    "cred.registration()\n",
    "cred.login()\n",
    "cred.process_document()\n",
    "\n",
    "print()\n",
    "hpp = HousePricePrediction()\n",
    "hpp.registration()\n",
    "hpp.login()\n",
    "hpp.process_document()"
   ]
  },
  {
   "cell_type": "code",
   "execution_count": 7,
   "id": "3c5fb9b9",
   "metadata": {},
   "outputs": [
    {
     "name": "stdout",
     "output_type": "stream",
     "text": [
      "Registration Function of Credit Risk Model Class\n",
      "Login Function of Credit Risk Model Class\n",
      "Process Document Function of Credit Risk Model Class\n",
      "\n"
     ]
    },
    {
     "ename": "TypeError",
     "evalue": "Can't instantiate abstract class HousePricePrediction with abstract method login",
     "output_type": "error",
     "traceback": [
      "\u001b[1;31m---------------------------------------------------------------------------\u001b[0m",
      "\u001b[1;31mTypeError\u001b[0m                                 Traceback (most recent call last)",
      "Cell \u001b[1;32mIn[7], line 42\u001b[0m\n\u001b[0;32m     39\u001b[0m cred\u001b[38;5;241m.\u001b[39mprocess_document()\n\u001b[0;32m     41\u001b[0m \u001b[38;5;28mprint\u001b[39m()\n\u001b[1;32m---> 42\u001b[0m hpp \u001b[38;5;241m=\u001b[39m \u001b[43mHousePricePrediction\u001b[49m\u001b[43m(\u001b[49m\u001b[43m)\u001b[49m\n\u001b[0;32m     43\u001b[0m hpp\u001b[38;5;241m.\u001b[39mregistration()\n\u001b[0;32m     44\u001b[0m hpp\u001b[38;5;241m.\u001b[39mlogin()\n",
      "\u001b[1;31mTypeError\u001b[0m: Can't instantiate abstract class HousePricePrediction with abstract method login"
     ]
    }
   ],
   "source": [
    "from abc import ABC, abstractmethod\n",
    "\n",
    "class ProjectBlueprint(ABC):    # Abstract class\n",
    "    \n",
    "    @abstractmethod             # decorator\n",
    "    def registration(self):     # abstract method\n",
    "        print('Registration Function of Project Blueprint Class')\n",
    "     \n",
    "    @abstractmethod\n",
    "    def login(self):\n",
    "        print('Login Function of Project Blueprint Class')\n",
    "        \n",
    "    def process_document(self):\n",
    "        print('Process Document Function of Project Blueprint Class')\n",
    "        \n",
    "class CreditRiskModel(ProjectBlueprint):\n",
    "    def registration(self):\n",
    "        print('Registration Function of Credit Risk Model Class')\n",
    "        \n",
    "    def login(self):\n",
    "        print('Login Function of Credit Risk Model Class')\n",
    "        \n",
    "    def process_document(self):\n",
    "        print('Process Document Function of Credit Risk Model Class')\n",
    "        \n",
    "class HousePricePrediction(ProjectBlueprint):\n",
    "    def registration(self):\n",
    "        print('Registration Function of House Price Prediction Class')\n",
    "        \n",
    "#     def login(self):\n",
    "#         print('Login Function of House Price Prediction Class')\n",
    "        \n",
    "    def process_document(self):\n",
    "        print('Process Document Function of House Price Prediction Class')\n",
    "        \n",
    "cred = CreditRiskModel()\n",
    "cred.registration()\n",
    "cred.login()\n",
    "cred.process_document()\n",
    "\n",
    "print()\n",
    "hpp = HousePricePrediction()\n",
    "hpp.registration()\n",
    "hpp.login()\n",
    "hpp.process_document()"
   ]
  },
  {
   "cell_type": "code",
   "execution_count": 8,
   "id": "d1ae5018",
   "metadata": {},
   "outputs": [
    {
     "name": "stdout",
     "output_type": "stream",
     "text": [
      "Registration Function of House Price Prediction Class\n",
      "Login Function of Credit Risk Model Class\n",
      "Process Document Function of House Price Prediction Class\n"
     ]
    }
   ],
   "source": [
    "from abc import ABC, abstractmethod\n",
    "\n",
    "class ProjectBlueprint(ABC):    # Abstract class\n",
    "    \n",
    "    @abstractmethod             # decorator\n",
    "    def registration(self):     # abstract method\n",
    "        print('Registration Function of Project Blueprint Class')\n",
    "     \n",
    "    @abstractmethod\n",
    "    def login(self):\n",
    "        print('Login Function of Project Blueprint Class')\n",
    "        \n",
    "    def process_document(self):\n",
    "        print('Process Document Function of Project Blueprint Class')\n",
    "        \n",
    "class CreditRiskModel(ProjectBlueprint):\n",
    "    def registration(self):\n",
    "        print('Registration Function of Credit Risk Model Class')\n",
    "        \n",
    "    def login(self):\n",
    "        print('Login Function of Credit Risk Model Class')\n",
    "        \n",
    "    def process_document(self):\n",
    "        print('Process Document Function of Credit Risk Model Class')\n",
    "        \n",
    "class HousePricePrediction(CreditRiskModel):\n",
    "    def registration(self):\n",
    "        print('Registration Function of House Price Prediction Class')\n",
    "        \n",
    "#     def login(self):\n",
    "#         print('Login Function of House Price Prediction Class')\n",
    "        \n",
    "    def process_document(self):\n",
    "        print('Process Document Function of House Price Prediction Class')\n",
    "        \n",
    "hpp = HousePricePrediction()\n",
    "hpp.registration()\n",
    "hpp.login()\n",
    "hpp.process_document()"
   ]
  },
  {
   "cell_type": "code",
   "execution_count": null,
   "id": "b56fcf5e",
   "metadata": {},
   "outputs": [],
   "source": []
  },
  {
   "cell_type": "code",
   "execution_count": null,
   "id": "2c907081",
   "metadata": {},
   "outputs": [],
   "source": []
  },
  {
   "cell_type": "code",
   "execution_count": null,
   "id": "3ee035be",
   "metadata": {},
   "outputs": [],
   "source": []
  },
  {
   "cell_type": "code",
   "execution_count": null,
   "id": "912ea341",
   "metadata": {},
   "outputs": [],
   "source": []
  },
  {
   "cell_type": "code",
   "execution_count": null,
   "id": "7a94655f",
   "metadata": {},
   "outputs": [],
   "source": []
  },
  {
   "cell_type": "code",
   "execution_count": null,
   "id": "81c03872",
   "metadata": {},
   "outputs": [],
   "source": []
  },
  {
   "cell_type": "code",
   "execution_count": null,
   "id": "51ea32be",
   "metadata": {},
   "outputs": [],
   "source": []
  },
  {
   "cell_type": "code",
   "execution_count": null,
   "id": "80ed2cac",
   "metadata": {},
   "outputs": [],
   "source": []
  },
  {
   "cell_type": "code",
   "execution_count": null,
   "id": "aaf2face",
   "metadata": {},
   "outputs": [],
   "source": []
  },
  {
   "cell_type": "code",
   "execution_count": null,
   "id": "5b6f29bb",
   "metadata": {},
   "outputs": [],
   "source": []
  },
  {
   "cell_type": "code",
   "execution_count": null,
   "id": "d8ccd19b",
   "metadata": {},
   "outputs": [],
   "source": []
  },
  {
   "cell_type": "code",
   "execution_count": null,
   "id": "a2876a81",
   "metadata": {},
   "outputs": [],
   "source": []
  },
  {
   "cell_type": "code",
   "execution_count": null,
   "id": "ca158bf3",
   "metadata": {},
   "outputs": [],
   "source": []
  },
  {
   "cell_type": "code",
   "execution_count": null,
   "id": "a6e20142",
   "metadata": {},
   "outputs": [],
   "source": []
  },
  {
   "cell_type": "code",
   "execution_count": null,
   "id": "84fdde05",
   "metadata": {},
   "outputs": [],
   "source": []
  },
  {
   "cell_type": "code",
   "execution_count": null,
   "id": "0bf5db6f",
   "metadata": {},
   "outputs": [],
   "source": []
  },
  {
   "cell_type": "code",
   "execution_count": null,
   "id": "a2569777",
   "metadata": {},
   "outputs": [],
   "source": []
  },
  {
   "cell_type": "code",
   "execution_count": null,
   "id": "6ac54eb2",
   "metadata": {},
   "outputs": [],
   "source": []
  },
  {
   "cell_type": "code",
   "execution_count": null,
   "id": "ddaa9e70",
   "metadata": {},
   "outputs": [],
   "source": []
  },
  {
   "cell_type": "code",
   "execution_count": null,
   "id": "9979a206",
   "metadata": {},
   "outputs": [],
   "source": []
  },
  {
   "cell_type": "code",
   "execution_count": null,
   "id": "0074f61b",
   "metadata": {},
   "outputs": [],
   "source": []
  },
  {
   "cell_type": "code",
   "execution_count": null,
   "id": "c17cd130",
   "metadata": {},
   "outputs": [],
   "source": []
  },
  {
   "cell_type": "code",
   "execution_count": null,
   "id": "46272358",
   "metadata": {},
   "outputs": [],
   "source": []
  },
  {
   "cell_type": "code",
   "execution_count": null,
   "id": "6fd4fb6b",
   "metadata": {},
   "outputs": [],
   "source": []
  },
  {
   "cell_type": "code",
   "execution_count": null,
   "id": "abaa0b72",
   "metadata": {},
   "outputs": [],
   "source": []
  },
  {
   "cell_type": "code",
   "execution_count": null,
   "id": "ec795077",
   "metadata": {},
   "outputs": [],
   "source": []
  },
  {
   "cell_type": "code",
   "execution_count": null,
   "id": "1c4349c0",
   "metadata": {},
   "outputs": [],
   "source": []
  },
  {
   "cell_type": "code",
   "execution_count": null,
   "id": "1f414ebd",
   "metadata": {},
   "outputs": [],
   "source": []
  },
  {
   "cell_type": "code",
   "execution_count": null,
   "id": "ba8af37a",
   "metadata": {},
   "outputs": [],
   "source": []
  }
 ],
 "metadata": {
  "kernelspec": {
   "display_name": "Python 3 (ipykernel)",
   "language": "python",
   "name": "python3"
  },
  "language_info": {
   "codemirror_mode": {
    "name": "ipython",
    "version": 3
   },
   "file_extension": ".py",
   "mimetype": "text/x-python",
   "name": "python",
   "nbconvert_exporter": "python",
   "pygments_lexer": "ipython3",
   "version": "3.11.2"
  }
 },
 "nbformat": 4,
 "nbformat_minor": 5
}
